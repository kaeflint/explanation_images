{
 "cells": [
  {
   "cell_type": "code",
   "execution_count": 1,
   "id": "8f61bb5f",
   "metadata": {},
   "outputs": [],
   "source": []
  },
  {
   "cell_type": "code",
   "execution_count": 4,
   "id": "9c735dff",
   "metadata": {},
   "outputs": [],
   "source": []
  },
  {
   "cell_type": "code",
   "execution_count": 20,
   "id": "8dade2b4",
   "metadata": {},
   "outputs": [],
   "source": [
    "import json\n",
    "parent_path = 'attribution_plots/'\n",
    "task_names = list(json.load(open(f'{parent_path}/task_dictionary.json')).keys())\n",
    "\n",
    "instances = {}\n",
    "for idx,task in enumerate(task_names):\n",
    "    task_path = parent_path+task\n",
    "    task_info = json.load(open(task_path+'/explanation_details/xai_information.json'))\n",
    "    for ifx,instance in enumerate(task_info):\n",
    "        instance_idx = f'instance_{idx}-{ifx}'\n",
    "\n",
    "        # Retrive the attribution information\n",
    "        image_path = instance['fig_name_placeholders']\n",
    "        feature_order =[f[0] for f in  instance['influence_order']]\n",
    "        attributions = instance['features_attributions']\n",
    "        negative_features = attributions['contradict']\n",
    "        positive_features = attributions['support']\n",
    "        ingore_features = attributions['ignore']\n",
    "\n",
    "\n",
    "\n",
    "        "
   ]
  },
  {
   "cell_type": "code",
   "execution_count": 21,
   "id": "1139aba3",
   "metadata": {},
   "outputs": [
    {
     "data": {
      "text/plain": [
       "'/task_38/AdaBoostClassifier_test_15_placeholder_fig.png'"
      ]
     },
     "execution_count": 21,
     "metadata": {},
     "output_type": "execute_result"
    }
   ],
   "source": [
    "image_path"
   ]
  },
  {
   "cell_type": "code",
   "execution_count": 19,
   "id": "e9197524",
   "metadata": {},
   "outputs": [
    {
     "data": {
      "text/plain": [
       "{'placeholder_probabilities': ['C1: 24.53%', 'C2: 75.47%'],\n",
       " 'class_probabilities': ['More than 5: 24.53%', 'Less than 5: 75.47%'],\n",
       " 'model_name': 'GradientBoostingClassifier',\n",
       " 'data_id': 0,\n",
       " 'task_name': 'Basketball Players Career Length Prediction',\n",
       " 'fig_name_actual': '/task_38/GradientBoostingClassifier_test_0_actual_name_fig.png',\n",
       " 'fig_name_placeholders': '/task_38/GradientBoostingClassifier_test_0_placeholder_fig.png',\n",
       " 'features_placeholder': [{'GamesPlayed': 'F1',\n",
       "   'OffensiveRebounds': 'F13',\n",
       "   'FieldGoalPercent': 'F6',\n",
       "   'FreeThrowPercent': 'F12',\n",
       "   '3PointPercent': 'F9',\n",
       "   '3PointAttempt': 'F8',\n",
       "   'FieldGoalsMade': 'F4',\n",
       "   'Blocks': 'F18',\n",
       "   'DefensiveRebounds': 'F14',\n",
       "   'Turnovers': 'F19',\n",
       "   'Rebounds': 'F15',\n",
       "   'FreeThrowAttempt': 'F11',\n",
       "   'MinutesPlayed': 'F2',\n",
       "   'FieldGoalsAttempt': 'F5',\n",
       "   'Assists': 'F16',\n",
       "   '3PointMade': 'F7',\n",
       "   'PointsPerGame': 'F3',\n",
       "   'FreeThrowMade': 'F10',\n",
       "   'Steals': 'F17'},\n",
       "  {'GamesPlayed': 'F1',\n",
       "   'OffensiveRebounds': 'F13',\n",
       "   'FieldGoalPercent': 'F6',\n",
       "   'FreeThrowPercent': 'F12',\n",
       "   '3PointPercent': 'F9',\n",
       "   '3PointAttempt': 'F8',\n",
       "   'FieldGoalsMade': 'F4',\n",
       "   'Blocks': 'F18',\n",
       "   'DefensiveRebounds': 'F14',\n",
       "   'Turnovers': 'F19',\n",
       "   'Rebounds': 'F15',\n",
       "   'FreeThrowAttempt': 'F11',\n",
       "   'MinutesPlayed': 'F2',\n",
       "   'FieldGoalsAttempt': 'F5',\n",
       "   'Assists': 'F16',\n",
       "   '3PointMade': 'F7',\n",
       "   'PointsPerGame': 'F3',\n",
       "   'FreeThrowMade': 'F10',\n",
       "   'Steals': 'F17'}],\n",
       " 'feature_division_full': '{\"rank\": [[\"F1\", 0], [\"F13\", 1], [\"F6\", 2], [\"F12\", 3], [\"F9\", 4], [\"F8\", 5], [\"F4\", 6], [\"F18\", 7], [\"F14\", 8], [\"F19\", 9], [\"F15\", 10], [\"F11\", 11], [\"F2\", 12], [\"F5\", 13], [\"F16\", 14], [\"F7\", 15], [\"F3\", 16], [\"F10\", 17], [\"F17\", 18]], \"explainable_df\": \"{\\\\\"effect\\\\\":{\\\\\"0\\\\\":-0.11829656,\\\\\"12\\\\\":-0.0732111146,\\\\\"5\\\\\":-0.0557998518,\\\\\"11\\\\\":-0.0518830107,\\\\\"8\\\\\":-0.0385686383,\\\\\"7\\\\\":0.0358063012,\\\\\"3\\\\\":-0.0322986192,\\\\\"17\\\\\":-0.0247045887,\\\\\"13\\\\\":-0.0160212904,\\\\\"18\\\\\":-0.0114743782,\\\\\"14\\\\\":0.0104737077,\\\\\"10\\\\\":-0.0062284145,\\\\\"1\\\\\":0.0052194805,\\\\\"4\\\\\":-0.0043298729,\\\\\"15\\\\\":-0.0033478235,\\\\\"6\\\\\":0.0032630125,\\\\\"2\\\\\":-0.0030347465,\\\\\"9\\\\\":-0.0018667967,\\\\\"16\\\\\":-0.0009352047},\\\\\"Variable\\\\\":{\\\\\"0\\\\\":\\\\\"GamesPlayed\\\\\",\\\\\"12\\\\\":\\\\\"OffensiveRebounds\\\\\",\\\\\"5\\\\\":\\\\\"FieldGoalPercent\\\\\",\\\\\"11\\\\\":\\\\\"FreeThrowPercent\\\\\",\\\\\"8\\\\\":\\\\\"3PointPercent\\\\\",\\\\\"7\\\\\":\\\\\"3PointAttempt\\\\\",\\\\\"3\\\\\":\\\\\"FieldGoalsMade\\\\\",\\\\\"17\\\\\":\\\\\"Blocks\\\\\",\\\\\"13\\\\\":\\\\\"DefensiveRebounds\\\\\",\\\\\"18\\\\\":\\\\\"Turnovers\\\\\",\\\\\"14\\\\\":\\\\\"Rebounds\\\\\",\\\\\"10\\\\\":\\\\\"FreeThrowAttempt\\\\\",\\\\\"1\\\\\":\\\\\"MinutesPlayed\\\\\",\\\\\"4\\\\\":\\\\\"FieldGoalsAttempt\\\\\",\\\\\"15\\\\\":\\\\\"Assists\\\\\",\\\\\"6\\\\\":\\\\\"3PointMade\\\\\",\\\\\"2\\\\\":\\\\\"PointsPerGame\\\\\",\\\\\"9\\\\\":\\\\\"FreeThrowMade\\\\\",\\\\\"16\\\\\":\\\\\"Steals\\\\\"},\\\\\"effect_abs\\\\\":{\\\\\"0\\\\\":0.11829656,\\\\\"12\\\\\":0.0732111146,\\\\\"5\\\\\":0.0557998518,\\\\\"11\\\\\":0.0518830107,\\\\\"8\\\\\":0.0385686383,\\\\\"7\\\\\":0.0358063012,\\\\\"3\\\\\":0.0322986192,\\\\\"17\\\\\":0.0247045887,\\\\\"13\\\\\":0.0160212904,\\\\\"18\\\\\":0.0114743782,\\\\\"14\\\\\":0.0104737077,\\\\\"10\\\\\":0.0062284145,\\\\\"1\\\\\":0.0052194805,\\\\\"4\\\\\":0.0043298729,\\\\\"15\\\\\":0.0033478235,\\\\\"6\\\\\":0.0032630125,\\\\\"2\\\\\":0.0030347465,\\\\\"9\\\\\":0.0018667967,\\\\\"16\\\\\":0.0009352047},\\\\\"placeholder\\\\\":{\\\\\"0\\\\\":\\\\\"F1\\\\\",\\\\\"12\\\\\":\\\\\"F13\\\\\",\\\\\"5\\\\\":\\\\\"F6\\\\\",\\\\\"11\\\\\":\\\\\"F12\\\\\",\\\\\"8\\\\\":\\\\\"F9\\\\\",\\\\\"7\\\\\":\\\\\"F8\\\\\",\\\\\"3\\\\\":\\\\\"F4\\\\\",\\\\\"17\\\\\":\\\\\"F18\\\\\",\\\\\"13\\\\\":\\\\\"F14\\\\\",\\\\\"18\\\\\":\\\\\"F19\\\\\",\\\\\"14\\\\\":\\\\\"F15\\\\\",\\\\\"10\\\\\":\\\\\"F11\\\\\",\\\\\"1\\\\\":\\\\\"F2\\\\\",\\\\\"4\\\\\":\\\\\"F5\\\\\",\\\\\"15\\\\\":\\\\\"F16\\\\\",\\\\\"6\\\\\":\\\\\"F7\\\\\",\\\\\"2\\\\\":\\\\\"F3\\\\\",\\\\\"9\\\\\":\\\\\"F10\\\\\",\\\\\"16\\\\\":\\\\\"F17\\\\\"},\\\\\"local_rank\\\\\":{\\\\\"0\\\\\":0,\\\\\"12\\\\\":1,\\\\\"5\\\\\":2,\\\\\"11\\\\\":3,\\\\\"8\\\\\":4,\\\\\"7\\\\\":5,\\\\\"3\\\\\":6,\\\\\"17\\\\\":7,\\\\\"13\\\\\":8,\\\\\"18\\\\\":9,\\\\\"14\\\\\":10,\\\\\"10\\\\\":11,\\\\\"1\\\\\":12,\\\\\"4\\\\\":13,\\\\\"15\\\\\":14,\\\\\"6\\\\\":15,\\\\\"2\\\\\":16,\\\\\"9\\\\\":17,\\\\\"16\\\\\":18},\\\\\"local_normalize_scores\\\\\":{\\\\\"0\\\\\":-1.0,\\\\\"12\\\\\":-0.65,\\\\\"5\\\\\":-0.52,\\\\\"11\\\\\":-0.49,\\\\\"8\\\\\":-0.39,\\\\\"7\\\\\":0.37,\\\\\"3\\\\\":-0.34,\\\\\"17\\\\\":-0.28,\\\\\"13\\\\\":-0.22,\\\\\"18\\\\\":-0.18,\\\\\"14\\\\\":0.17,\\\\\"10\\\\\":-0.14,\\\\\"1\\\\\":0.13,\\\\\"4\\\\\":-0.13,\\\\\"15\\\\\":-0.12,\\\\\"6\\\\\":0.12,\\\\\"2\\\\\":-0.12,\\\\\"9\\\\\":-0.11,\\\\\"16\\\\\":-0.1},\\\\\"Sign\\\\\":{\\\\\"0\\\\\":\\\\\"red\\\\\",\\\\\"12\\\\\":\\\\\"red\\\\\",\\\\\"5\\\\\":\\\\\"red\\\\\",\\\\\"11\\\\\":\\\\\"red\\\\\",\\\\\"8\\\\\":\\\\\"red\\\\\",\\\\\"7\\\\\":\\\\\"green\\\\\",\\\\\"3\\\\\":\\\\\"red\\\\\",\\\\\"17\\\\\":\\\\\"red\\\\\",\\\\\"13\\\\\":\\\\\"red\\\\\",\\\\\"18\\\\\":\\\\\"red\\\\\",\\\\\"14\\\\\":\\\\\"green\\\\\",\\\\\"10\\\\\":\\\\\"red\\\\\",\\\\\"1\\\\\":\\\\\"green\\\\\",\\\\\"4\\\\\":\\\\\"red\\\\\",\\\\\"15\\\\\":\\\\\"red\\\\\",\\\\\"6\\\\\":\\\\\"green\\\\\",\\\\\"2\\\\\":\\\\\"red\\\\\",\\\\\"9\\\\\":\\\\\"red\\\\\",\\\\\"16\\\\\":\\\\\"red\\\\\"},\\\\\"local_impact\\\\\":{\\\\\"0\\\\\":2,\\\\\"12\\\\\":2,\\\\\"5\\\\\":2,\\\\\"11\\\\\":2,\\\\\"8\\\\\":2,\\\\\"7\\\\\":1,\\\\\"3\\\\\":2,\\\\\"17\\\\\":2,\\\\\"13\\\\\":2,\\\\\"18\\\\\":2,\\\\\"14\\\\\":1,\\\\\"10\\\\\":2,\\\\\"1\\\\\":1,\\\\\"4\\\\\":2,\\\\\"15\\\\\":2,\\\\\"6\\\\\":1,\\\\\"2\\\\\":2,\\\\\"9\\\\\":2,\\\\\"16\\\\\":2},\\\\\"ftype\\\\\":{\\\\\"0\\\\\":\\\\\"numeric\\\\\",\\\\\"12\\\\\":\\\\\"numeric\\\\\",\\\\\"5\\\\\":\\\\\"numeric\\\\\",\\\\\"11\\\\\":\\\\\"numeric\\\\\",\\\\\"8\\\\\":\\\\\"numeric\\\\\",\\\\\"7\\\\\":\\\\\"numeric\\\\\",\\\\\"3\\\\\":\\\\\"numeric\\\\\",\\\\\"17\\\\\":\\\\\"numeric\\\\\",\\\\\"13\\\\\":\\\\\"numeric\\\\\",\\\\\"18\\\\\":\\\\\"numeric\\\\\",\\\\\"14\\\\\":\\\\\"numeric\\\\\",\\\\\"10\\\\\":\\\\\"numeric\\\\\",\\\\\"1\\\\\":\\\\\"numeric\\\\\",\\\\\"4\\\\\":\\\\\"numeric\\\\\",\\\\\"15\\\\\":\\\\\"numeric\\\\\",\\\\\"6\\\\\":\\\\\"numeric\\\\\",\\\\\"2\\\\\":\\\\\"numeric\\\\\",\\\\\"9\\\\\":\\\\\"numeric\\\\\",\\\\\"16\\\\\":\\\\\"numeric\\\\\"}}\", \"feature_type\": [\"numeric\", \"numeric\", \"numeric\", \"numeric\", \"numeric\", \"numeric\", \"numeric\", \"numeric\", \"numeric\", \"numeric\", \"numeric\", \"numeric\", \"numeric\", \"numeric\", \"numeric\", \"numeric\", \"numeric\", \"numeric\", \"numeric\"], \"contradict\": [\"F1\", \"F13\", \"F6\", \"F12\", \"F9\", \"F4\", \"F18\", \"F14\", \"F19\", \"F11\", \"F5\", \"F16\", \"F3\", \"F10\", \"F17\"], \"support\": [\"F8\", \"F15\", \"F2\", \"F7\"], \"ignore\": []}',\n",
       " 'features_attributions': {'contradict': ['F1',\n",
       "   'F13',\n",
       "   'F6',\n",
       "   'F12',\n",
       "   'F9',\n",
       "   'F4',\n",
       "   'F18',\n",
       "   'F14',\n",
       "   'F19',\n",
       "   'F11',\n",
       "   'F5',\n",
       "   'F16',\n",
       "   'F3',\n",
       "   'F10',\n",
       "   'F17'],\n",
       "  'support': ['F8', 'F15', 'F2', 'F7'],\n",
       "  'ignore': []},\n",
       " 'influence_order': [['F1', 0],\n",
       "  ['F13', 1],\n",
       "  ['F6', 2],\n",
       "  ['F12', 3],\n",
       "  ['F9', 4],\n",
       "  ['F8', 5],\n",
       "  ['F4', 6],\n",
       "  ['F18', 7],\n",
       "  ['F14', 8],\n",
       "  ['F19', 9],\n",
       "  ['F15', 10],\n",
       "  ['F11', 11],\n",
       "  ['F2', 12],\n",
       "  ['F5', 13],\n",
       "  ['F16', 14],\n",
       "  ['F7', 15],\n",
       "  ['F3', 16],\n",
       "  ['F10', 17],\n",
       "  ['F17', 18]]}"
      ]
     },
     "execution_count": 19,
     "metadata": {},
     "output_type": "execute_result"
    }
   ],
   "source": [
    "task_info[0]"
   ]
  }
 ],
 "metadata": {
  "interpreter": {
   "hash": "7cc44fef96dd2a81ddd88b065a45af939b5855ab64dcb4b1f9a9793646702ab9"
  },
  "kernelspec": {
   "display_name": "Python 3.8.8 ('annotate')",
   "language": "python",
   "name": "python3"
  },
  "language_info": {
   "codemirror_mode": {
    "name": "ipython",
    "version": 3
   },
   "file_extension": ".py",
   "mimetype": "text/x-python",
   "name": "python",
   "nbconvert_exporter": "python",
   "pygments_lexer": "ipython3",
   "version": "3.8.8"
  }
 },
 "nbformat": 4,
 "nbformat_minor": 5
}
